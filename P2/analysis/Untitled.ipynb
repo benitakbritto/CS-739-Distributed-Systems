{
 "cells": [
  {
   "cell_type": "code",
   "execution_count": 1,
   "id": "a297118a",
   "metadata": {},
   "outputs": [],
   "source": [
    "import pandas as pd\n",
    "import json\n",
    "import os.path\n",
    "import matplotlib.pyplot as plt\n",
    "import collections\n",
    "import matplotlib as m\n",
    "import copy\n",
    "import seaborn as sns\n",
    "import re\n",
    "import numpy as np\n",
    "import os\n",
    "from datetime import datetime"
   ]
  },
  {
   "cell_type": "code",
   "execution_count": 58,
   "id": "51c0d3a1",
   "metadata": {},
   "outputs": [],
   "source": [
    "def maybe_parse_time(str):\n",
    "    try:\n",
    "        return datetime.strptime(str, '%H:%M:%S.%f')\n",
    "    except ValueError:\n",
    "        return False"
   ]
  },
  {
   "cell_type": "code",
   "execution_count": 106,
   "id": "24ff8f16",
   "metadata": {},
   "outputs": [
    {
     "data": {
      "text/plain": [
       "datetime.datetime(1900, 1, 1, 16, 12, 12, 228744)"
      ]
     },
     "execution_count": 106,
     "metadata": {},
     "output_type": "execute_result"
    }
   ],
   "source": [
    "maybe_parse_time('16:12:12.228744')"
   ]
  },
  {
   "cell_type": "code",
   "execution_count": 109,
   "id": "560afafd",
   "metadata": {},
   "outputs": [],
   "source": [
    "def parse_call_time(line):\n",
    "    matches = re.findall('([^ ]+) time: ([0-9]+) ?nanoseconds\\s*',line)\n",
    "    if not matches:\n",
    "        return False\n",
    "    elif len(matches) != 1 or len(matches[0]) != 2:\n",
    "        raise Exception('Uh oh! ' + line, matches)\n",
    "    \n",
    "    (fname, ns) = matches[0]\n",
    "    \n",
    "    return (fname,int(ns))"
   ]
  },
  {
   "cell_type": "code",
   "execution_count": 143,
   "id": "fea994ef",
   "metadata": {},
   "outputs": [],
   "source": [
    "def combine(raw_dir, csv_out):\n",
    "    \n",
    "    csvs = open(csv_out,'w')\n",
    "    csvs.write('batch,version,case,local_seq,fname,ns\\n')\n",
    "    \n",
    "    issues = open('issues.txt','w')\n",
    "    any_issues = False\n",
    "    \n",
    "    for batch in os.listdir(raw_dir):\n",
    "        for version in os.listdir(os.path.join(raw_dir,batch)):\n",
    "            for case in os.listdir(os.path.join(raw_dir,batch,version)):\n",
    "                filename = os.path.join(raw_dir,batch,version,case)\n",
    "                file = open(filename,'r')\n",
    "                \n",
    "                lineno = 0\n",
    "                local_seq = 0\n",
    "                for line in file:\n",
    "                    res = parse_call_time(line)\n",
    "                    if not res:\n",
    "                        if not line.startswith('Initializing') and not line.startswith('testing consistency') and not maybe_parse_time(line.strip()):\n",
    "                            any_issues=True\n",
    "                            issuestr = f'in {filename} SKIP [{lineno}]: {line[:-1]}'\n",
    "                            print(issuestr)\n",
    "                            issues.write(issuestr+'\\n')\n",
    "                        lineno += 1\n",
    "                        continue\n",
    "                    lineno += 1\n",
    "                    (fname,ns) = res\n",
    "                    \n",
    "                    csvs.write(f'{global_seq},{batch},{version},{case},{local_seq},{fname},{ns}\\n')\n",
    "                    \n",
    "                    local_seq+=1\n",
    "    if any_issues:\n",
    "        print('Some parsing issues!')\n",
    "    else:\n",
    "        print('No parsing issues :)')\n",
    "        "
   ]
  },
  {
   "cell_type": "code",
   "execution_count": 144,
   "id": "9dac1786",
   "metadata": {},
   "outputs": [
    {
     "name": "stdout",
     "output_type": "stream",
     "text": [
      "No parsing issues :)\n"
     ]
    }
   ],
   "source": [
    "combine('../output','results0.csv')"
   ]
  },
  {
   "cell_type": "code",
   "execution_count": 145,
   "id": "9c469575",
   "metadata": {},
   "outputs": [],
   "source": [
    "df = pd.read_csv('results0.csv')"
   ]
  },
  {
   "cell_type": "code",
   "execution_count": 146,
   "id": "87582eb3",
   "metadata": {},
   "outputs": [
    {
     "data": {
      "text/html": [
       "<div>\n",
       "<style scoped>\n",
       "    .dataframe tbody tr th:only-of-type {\n",
       "        vertical-align: middle;\n",
       "    }\n",
       "\n",
       "    .dataframe tbody tr th {\n",
       "        vertical-align: top;\n",
       "    }\n",
       "\n",
       "    .dataframe thead th {\n",
       "        text-align: right;\n",
       "    }\n",
       "</style>\n",
       "<table border=\"1\" class=\"dataframe\">\n",
       "  <thead>\n",
       "    <tr style=\"text-align: right;\">\n",
       "      <th></th>\n",
       "      <th>batch</th>\n",
       "      <th>version</th>\n",
       "      <th>case</th>\n",
       "      <th>local_seq</th>\n",
       "      <th>fname</th>\n",
       "      <th>ns</th>\n",
       "    </tr>\n",
       "  </thead>\n",
       "  <tbody>\n",
       "    <tr>\n",
       "      <th>35717</th>\n",
       "      <td>read-perf</td>\n",
       "      <td>basic</td>\n",
       "      <td>256_KB</td>\n",
       "      <td>0</td>\n",
       "      <td>getattr</td>\n",
       "      <td>1932816</td>\n",
       "    </tr>\n",
       "    <tr>\n",
       "      <th>35717</th>\n",
       "      <td>read-perf</td>\n",
       "      <td>basic</td>\n",
       "      <td>256_KB</td>\n",
       "      <td>1</td>\n",
       "      <td>getattr</td>\n",
       "      <td>2536427</td>\n",
       "    </tr>\n",
       "    <tr>\n",
       "      <th>35717</th>\n",
       "      <td>read-perf</td>\n",
       "      <td>basic</td>\n",
       "      <td>256_KB</td>\n",
       "      <td>2</td>\n",
       "      <td>getattr</td>\n",
       "      <td>1578917</td>\n",
       "    </tr>\n",
       "    <tr>\n",
       "      <th>35717</th>\n",
       "      <td>read-perf</td>\n",
       "      <td>basic</td>\n",
       "      <td>256_KB</td>\n",
       "      <td>3</td>\n",
       "      <td>getattr</td>\n",
       "      <td>1353814</td>\n",
       "    </tr>\n",
       "    <tr>\n",
       "      <th>35717</th>\n",
       "      <td>read-perf</td>\n",
       "      <td>basic</td>\n",
       "      <td>256_KB</td>\n",
       "      <td>4</td>\n",
       "      <td>open</td>\n",
       "      <td>18828004</td>\n",
       "    </tr>\n",
       "    <tr>\n",
       "      <th>...</th>\n",
       "      <td>...</td>\n",
       "      <td>...</td>\n",
       "      <td>...</td>\n",
       "      <td>...</td>\n",
       "      <td>...</td>\n",
       "      <td>...</td>\n",
       "    </tr>\n",
       "    <tr>\n",
       "      <th>35717</th>\n",
       "      <td>write-perf</td>\n",
       "      <td>perf</td>\n",
       "      <td>64_B</td>\n",
       "      <td>898</td>\n",
       "      <td>getattr</td>\n",
       "      <td>1426214</td>\n",
       "    </tr>\n",
       "    <tr>\n",
       "      <th>35717</th>\n",
       "      <td>write-perf</td>\n",
       "      <td>perf</td>\n",
       "      <td>64_B</td>\n",
       "      <td>899</td>\n",
       "      <td>read</td>\n",
       "      <td>4900</td>\n",
       "    </tr>\n",
       "    <tr>\n",
       "      <th>35717</th>\n",
       "      <td>write-perf</td>\n",
       "      <td>perf</td>\n",
       "      <td>64_B</td>\n",
       "      <td>900</td>\n",
       "      <td>write</td>\n",
       "      <td>5434755</td>\n",
       "    </tr>\n",
       "    <tr>\n",
       "      <th>35717</th>\n",
       "      <td>write-perf</td>\n",
       "      <td>perf</td>\n",
       "      <td>64_B</td>\n",
       "      <td>901</td>\n",
       "      <td>release</td>\n",
       "      <td>2913229</td>\n",
       "    </tr>\n",
       "    <tr>\n",
       "      <th>35717</th>\n",
       "      <td>write-perf</td>\n",
       "      <td>perf</td>\n",
       "      <td>64_B</td>\n",
       "      <td>902</td>\n",
       "      <td>release</td>\n",
       "      <td>3462334</td>\n",
       "    </tr>\n",
       "  </tbody>\n",
       "</table>\n",
       "<p>58424 rows × 6 columns</p>\n",
       "</div>"
      ],
      "text/plain": [
       "            batch version    case  local_seq    fname        ns\n",
       "35717   read-perf   basic  256_KB          0  getattr   1932816\n",
       "35717   read-perf   basic  256_KB          1  getattr   2536427\n",
       "35717   read-perf   basic  256_KB          2  getattr   1578917\n",
       "35717   read-perf   basic  256_KB          3  getattr   1353814\n",
       "35717   read-perf   basic  256_KB          4     open  18828004\n",
       "...           ...     ...     ...        ...      ...       ...\n",
       "35717  write-perf    perf    64_B        898  getattr   1426214\n",
       "35717  write-perf    perf    64_B        899     read      4900\n",
       "35717  write-perf    perf    64_B        900    write   5434755\n",
       "35717  write-perf    perf    64_B        901  release   2913229\n",
       "35717  write-perf    perf    64_B        902  release   3462334\n",
       "\n",
       "[58424 rows x 6 columns]"
      ]
     },
     "execution_count": 146,
     "metadata": {},
     "output_type": "execute_result"
    }
   ],
   "source": [
    "df"
   ]
  },
  {
   "cell_type": "code",
   "execution_count": 147,
   "id": "b26c7b75",
   "metadata": {},
   "outputs": [],
   "source": [
    "faceted = df.drop('local_seq',axis=1).groupby(['batch','version','case','fname'])"
   ]
  },
  {
   "cell_type": "code",
   "execution_count": 167,
   "id": "caaf15ee",
   "metadata": {},
   "outputs": [],
   "source": [
    "faceted.mean().to_csv('mean.csv')\n",
    "faceted.min().to_csv('min.csv')\n",
    "faceted.max().to_csv('max.csv')\n",
    "faceted.median().to_csv('median.csv')\n",
    "faceted.std().replace(np.nan,0).to_csv('sd.csv') # some tests don't have a mknod"
   ]
  },
  {
   "cell_type": "code",
   "execution_count": 150,
   "id": "2055b9d6",
   "metadata": {},
   "outputs": [
    {
     "data": {
      "text/html": [
       "<div>\n",
       "<style scoped>\n",
       "    .dataframe tbody tr th:only-of-type {\n",
       "        vertical-align: middle;\n",
       "    }\n",
       "\n",
       "    .dataframe tbody tr th {\n",
       "        vertical-align: top;\n",
       "    }\n",
       "\n",
       "    .dataframe thead th {\n",
       "        text-align: right;\n",
       "    }\n",
       "</style>\n",
       "<table border=\"1\" class=\"dataframe\">\n",
       "  <thead>\n",
       "    <tr style=\"text-align: right;\">\n",
       "      <th></th>\n",
       "      <th>batch</th>\n",
       "      <th>version</th>\n",
       "      <th>case</th>\n",
       "      <th>local_seq</th>\n",
       "      <th>fname</th>\n",
       "      <th>ns</th>\n",
       "    </tr>\n",
       "  </thead>\n",
       "  <tbody>\n",
       "    <tr>\n",
       "      <th>35717</th>\n",
       "      <td>write-perf</td>\n",
       "      <td>basic</td>\n",
       "      <td>256_KB</td>\n",
       "      <td>4</td>\n",
       "      <td>mknod</td>\n",
       "      <td>1220514</td>\n",
       "    </tr>\n",
       "    <tr>\n",
       "      <th>35717</th>\n",
       "      <td>write-perf</td>\n",
       "      <td>basic</td>\n",
       "      <td>4_KB</td>\n",
       "      <td>4</td>\n",
       "      <td>mknod</td>\n",
       "      <td>1980323</td>\n",
       "    </tr>\n",
       "    <tr>\n",
       "      <th>35717</th>\n",
       "      <td>write-perf</td>\n",
       "      <td>basic</td>\n",
       "      <td>64_B</td>\n",
       "      <td>4</td>\n",
       "      <td>mknod</td>\n",
       "      <td>2129321</td>\n",
       "    </tr>\n",
       "    <tr>\n",
       "      <th>35717</th>\n",
       "      <td>write-perf</td>\n",
       "      <td>perf</td>\n",
       "      <td>16_MB</td>\n",
       "      <td>5</td>\n",
       "      <td>mknod</td>\n",
       "      <td>1523017</td>\n",
       "    </tr>\n",
       "  </tbody>\n",
       "</table>\n",
       "</div>"
      ],
      "text/plain": [
       "            batch version    case  local_seq  fname       ns\n",
       "35717  write-perf   basic  256_KB          4  mknod  1220514\n",
       "35717  write-perf   basic    4_KB          4  mknod  1980323\n",
       "35717  write-perf   basic    64_B          4  mknod  2129321\n",
       "35717  write-perf    perf   16_MB          5  mknod  1523017"
      ]
     },
     "execution_count": 150,
     "metadata": {},
     "output_type": "execute_result"
    }
   ],
   "source": [
    "df[df['fname']=='mknod']"
   ]
  },
  {
   "cell_type": "code",
   "execution_count": 160,
   "id": "c90e9df3",
   "metadata": {},
   "outputs": [
    {
     "data": {
      "text/html": [
       "<div>\n",
       "<style scoped>\n",
       "    .dataframe tbody tr th:only-of-type {\n",
       "        vertical-align: middle;\n",
       "    }\n",
       "\n",
       "    .dataframe tbody tr th {\n",
       "        vertical-align: top;\n",
       "    }\n",
       "\n",
       "    .dataframe thead th {\n",
       "        text-align: right;\n",
       "    }\n",
       "</style>\n",
       "<table border=\"1\" class=\"dataframe\">\n",
       "  <thead>\n",
       "    <tr style=\"text-align: right;\">\n",
       "      <th></th>\n",
       "      <th>batch</th>\n",
       "      <th>version</th>\n",
       "      <th>case</th>\n",
       "      <th>fname</th>\n",
       "      <th>ns</th>\n",
       "    </tr>\n",
       "  </thead>\n",
       "  <tbody>\n",
       "    <tr>\n",
       "      <th>0</th>\n",
       "      <td>read-perf</td>\n",
       "      <td>basic</td>\n",
       "      <td>256_KB</td>\n",
       "      <td>getattr</td>\n",
       "      <td>4.246443e+05</td>\n",
       "    </tr>\n",
       "    <tr>\n",
       "      <th>1</th>\n",
       "      <td>read-perf</td>\n",
       "      <td>basic</td>\n",
       "      <td>256_KB</td>\n",
       "      <td>open</td>\n",
       "      <td>1.765422e+06</td>\n",
       "    </tr>\n",
       "    <tr>\n",
       "      <th>2</th>\n",
       "      <td>read-perf</td>\n",
       "      <td>basic</td>\n",
       "      <td>256_KB</td>\n",
       "      <td>read</td>\n",
       "      <td>2.965404e+04</td>\n",
       "    </tr>\n",
       "    <tr>\n",
       "      <th>3</th>\n",
       "      <td>read-perf</td>\n",
       "      <td>basic</td>\n",
       "      <td>256_KB</td>\n",
       "      <td>release</td>\n",
       "      <td>7.422311e+03</td>\n",
       "    </tr>\n",
       "    <tr>\n",
       "      <th>4</th>\n",
       "      <td>read-perf</td>\n",
       "      <td>basic</td>\n",
       "      <td>4_KB</td>\n",
       "      <td>getattr</td>\n",
       "      <td>8.501409e+05</td>\n",
       "    </tr>\n",
       "    <tr>\n",
       "      <th>...</th>\n",
       "      <td>...</td>\n",
       "      <td>...</td>\n",
       "      <td>...</td>\n",
       "      <td>...</td>\n",
       "      <td>...</td>\n",
       "    </tr>\n",
       "    <tr>\n",
       "      <th>71</th>\n",
       "      <td>write-perf</td>\n",
       "      <td>perf</td>\n",
       "      <td>64_B</td>\n",
       "      <td>getattr</td>\n",
       "      <td>5.525077e+05</td>\n",
       "    </tr>\n",
       "    <tr>\n",
       "      <th>72</th>\n",
       "      <td>write-perf</td>\n",
       "      <td>perf</td>\n",
       "      <td>64_B</td>\n",
       "      <td>open</td>\n",
       "      <td>6.761510e+05</td>\n",
       "    </tr>\n",
       "    <tr>\n",
       "      <th>73</th>\n",
       "      <td>write-perf</td>\n",
       "      <td>perf</td>\n",
       "      <td>64_B</td>\n",
       "      <td>read</td>\n",
       "      <td>9.800824e+03</td>\n",
       "    </tr>\n",
       "    <tr>\n",
       "      <th>74</th>\n",
       "      <td>write-perf</td>\n",
       "      <td>perf</td>\n",
       "      <td>64_B</td>\n",
       "      <td>release</td>\n",
       "      <td>6.572584e+05</td>\n",
       "    </tr>\n",
       "    <tr>\n",
       "      <th>75</th>\n",
       "      <td>write-perf</td>\n",
       "      <td>perf</td>\n",
       "      <td>64_B</td>\n",
       "      <td>write</td>\n",
       "      <td>3.792133e+06</td>\n",
       "    </tr>\n",
       "  </tbody>\n",
       "</table>\n",
       "<p>76 rows × 5 columns</p>\n",
       "</div>"
      ],
      "text/plain": [
       "         batch version    case    fname            ns\n",
       "0    read-perf   basic  256_KB  getattr  4.246443e+05\n",
       "1    read-perf   basic  256_KB     open  1.765422e+06\n",
       "2    read-perf   basic  256_KB     read  2.965404e+04\n",
       "3    read-perf   basic  256_KB  release  7.422311e+03\n",
       "4    read-perf   basic    4_KB  getattr  8.501409e+05\n",
       "..         ...     ...     ...      ...           ...\n",
       "71  write-perf    perf    64_B  getattr  5.525077e+05\n",
       "72  write-perf    perf    64_B     open  6.761510e+05\n",
       "73  write-perf    perf    64_B     read  9.800824e+03\n",
       "74  write-perf    perf    64_B  release  6.572584e+05\n",
       "75  write-perf    perf    64_B    write  3.792133e+06\n",
       "\n",
       "[76 rows x 5 columns]"
      ]
     },
     "execution_count": 160,
     "metadata": {},
     "output_type": "execute_result"
    }
   ],
   "source": [
    "mu = faceted.std().reset_index()\n",
    "mu"
   ]
  },
  {
   "cell_type": "code",
   "execution_count": 165,
   "id": "d0ca6979",
   "metadata": {},
   "outputs": [
    {
     "data": {
      "text/plain": [
       "0.0"
      ]
     },
     "execution_count": 165,
     "metadata": {},
     "output_type": "execute_result"
    }
   ],
   "source": [
    "np.std([6])"
   ]
  },
  {
   "cell_type": "code",
   "execution_count": null,
   "id": "9c203588",
   "metadata": {},
   "outputs": [],
   "source": []
  },
  {
   "cell_type": "code",
   "execution_count": 142,
   "id": "4eb01bfc",
   "metadata": {},
   "outputs": [
    {
     "data": {
      "text/plain": [
       "array([[' getattr'],\n",
       "       [' getattr'],\n",
       "       [' getattr'],\n",
       "       ...,\n",
       "       [' write'],\n",
       "       [' release'],\n",
       "       [' release']], dtype=object)"
      ]
     },
     "execution_count": 142,
     "metadata": {},
     "output_type": "execute_result"
    }
   ],
   "source": [
    "df[['fname']].to_numpy()"
   ]
  },
  {
   "cell_type": "code",
   "execution_count": 126,
   "id": "384de3e7",
   "metadata": {},
   "outputs": [
    {
     "data": {
      "text/html": [
       "<div>\n",
       "<style scoped>\n",
       "    .dataframe tbody tr th:only-of-type {\n",
       "        vertical-align: middle;\n",
       "    }\n",
       "\n",
       "    .dataframe tbody tr th {\n",
       "        vertical-align: top;\n",
       "    }\n",
       "\n",
       "    .dataframe thead th {\n",
       "        text-align: right;\n",
       "    }\n",
       "</style>\n",
       "<table border=\"1\" class=\"dataframe\">\n",
       "  <thead>\n",
       "    <tr style=\"text-align: right;\">\n",
       "      <th></th>\n",
       "      <th>batch</th>\n",
       "      <th>version</th>\n",
       "      <th>case</th>\n",
       "      <th>local_seq</th>\n",
       "      <th>fname</th>\n",
       "      <th>ns</th>\n",
       "    </tr>\n",
       "  </thead>\n",
       "  <tbody>\n",
       "  </tbody>\n",
       "</table>\n",
       "</div>"
      ],
      "text/plain": [
       "Empty DataFrame\n",
       "Columns: [batch, version, case, local_seq, fname, ns]\n",
       "Index: []"
      ]
     },
     "execution_count": 126,
     "metadata": {},
     "output_type": "execute_result"
    }
   ],
   "source": [
    "df.loc[df['fname']=='getattr']"
   ]
  },
  {
   "cell_type": "code",
   "execution_count": 133,
   "id": "7b479266",
   "metadata": {},
   "outputs": [
    {
     "data": {
      "text/plain": [
       "array([' getattr', ' getattr', ' getattr', ..., ' write', ' release',\n",
       "       ' release'], dtype=object)"
      ]
     },
     "execution_count": 133,
     "metadata": {},
     "output_type": "execute_result"
    }
   ],
   "source": [
    "df['fname'].to_numpy()"
   ]
  },
  {
   "cell_type": "code",
   "execution_count": null,
   "id": "f05f1a45",
   "metadata": {},
   "outputs": [],
   "source": []
  }
 ],
 "metadata": {
  "kernelspec": {
   "display_name": "Python 3 (ipykernel)",
   "language": "python",
   "name": "python3"
  },
  "language_info": {
   "codemirror_mode": {
    "name": "ipython",
    "version": 3
   },
   "file_extension": ".py",
   "mimetype": "text/x-python",
   "name": "python",
   "nbconvert_exporter": "python",
   "pygments_lexer": "ipython3",
   "version": "3.8.10"
  }
 },
 "nbformat": 4,
 "nbformat_minor": 5
}
