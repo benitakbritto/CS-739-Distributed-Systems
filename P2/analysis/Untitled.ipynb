{
 "cells": [
  {
   "cell_type": "code",
   "execution_count": 295,
   "id": "a297118a",
   "metadata": {},
   "outputs": [],
   "source": [
    "import pandas as pd\n",
    "import json\n",
    "import os.path\n",
    "import matplotlib.pyplot as plt\n",
    "import collections\n",
    "import matplotlib as mpl\n",
    "import copy\n",
    "import seaborn as sns\n",
    "import re\n",
    "import numpy as np\n",
    "import os\n",
    "from datetime import datetime"
   ]
  },
  {
   "cell_type": "code",
   "execution_count": 2,
   "id": "51c0d3a1",
   "metadata": {},
   "outputs": [],
   "source": [
    "def maybe_parse_time(str):\n",
    "    try:\n",
    "        return datetime.strptime(str, '%H:%M:%S.%f')\n",
    "    except ValueError:\n",
    "        return False"
   ]
  },
  {
   "cell_type": "code",
   "execution_count": 3,
   "id": "24ff8f16",
   "metadata": {},
   "outputs": [
    {
     "data": {
      "text/plain": [
       "datetime.datetime(1900, 1, 1, 16, 12, 12, 228744)"
      ]
     },
     "execution_count": 3,
     "metadata": {},
     "output_type": "execute_result"
    }
   ],
   "source": [
    "maybe_parse_time('16:12:12.228744')"
   ]
  },
  {
   "cell_type": "code",
   "execution_count": 4,
   "id": "560afafd",
   "metadata": {},
   "outputs": [],
   "source": [
    "def parse_call_time(line):\n",
    "    matches = re.findall('([^ ]+) time: ([0-9]+) ?nanoseconds\\s*',line)\n",
    "    if not matches:\n",
    "        return False\n",
    "    elif len(matches) != 1 or len(matches[0]) != 2:\n",
    "        raise Exception('Uh oh! ' + line, matches)\n",
    "    \n",
    "    (fname, ns) = matches[0]\n",
    "    \n",
    "    return (fname,int(ns))"
   ]
  },
  {
   "cell_type": "code",
   "execution_count": 11,
   "id": "fea994ef",
   "metadata": {},
   "outputs": [],
   "source": [
    "def combine(raw_dir, csv_out):\n",
    "    \n",
    "    csvs = open(csv_out,'w')\n",
    "    csvs.write('batch,version,case,local_seq,fname,ns\\n')\n",
    "    \n",
    "    issues = open('issues.txt','w')\n",
    "    any_issues = False\n",
    "    \n",
    "    for batch in os.listdir(raw_dir):\n",
    "        if batch in ['scale', 'consistency']:\n",
    "            continue\n",
    "        for version in os.listdir(os.path.join(raw_dir,batch)):\n",
    "            for case in os.listdir(os.path.join(raw_dir,batch,version)):\n",
    "                filename = os.path.join(raw_dir,batch,version,case)\n",
    "                file = open(filename,'r')\n",
    "                \n",
    "                lineno = 0\n",
    "                local_seq = 0\n",
    "                for line in file:\n",
    "                    res = parse_call_time(line)\n",
    "                    if not res:\n",
    "                        if not line.startswith('Initializing') and not maybe_parse_time(line.strip()):\n",
    "                            any_issues=True\n",
    "                            issuestr = f'in {filename} SKIP [{lineno}]: {line[:-1]}'\n",
    "                            print(issuestr)\n",
    "                            issues.write(issuestr+'\\n')\n",
    "                        lineno += 1\n",
    "                        continue\n",
    "                    lineno += 1\n",
    "                    (fname,ns) = res\n",
    "                    \n",
    "                    csvs.write(f'{batch},{version},{case},{local_seq},{fname},{ns}\\n')\n",
    "                    \n",
    "                    local_seq+=1\n",
    "    if any_issues:\n",
    "        print('Some parsing issues!')\n",
    "    else:\n",
    "        print('No parsing issues :)')\n",
    "        "
   ]
  },
  {
   "cell_type": "code",
   "execution_count": 12,
   "id": "9dac1786",
   "metadata": {},
   "outputs": [
    {
     "name": "stdout",
     "output_type": "stream",
     "text": [
      "No parsing issues :)\n"
     ]
    }
   ],
   "source": [
    "combine('../output','results1.csv')"
   ]
  },
  {
   "cell_type": "code",
   "execution_count": 13,
   "id": "9c469575",
   "metadata": {},
   "outputs": [],
   "source": [
    "df = pd.read_csv('results1.csv')"
   ]
  },
  {
   "cell_type": "code",
   "execution_count": 14,
   "id": "87582eb3",
   "metadata": {},
   "outputs": [
    {
     "data": {
      "text/html": [
       "<div>\n",
       "<style scoped>\n",
       "    .dataframe tbody tr th:only-of-type {\n",
       "        vertical-align: middle;\n",
       "    }\n",
       "\n",
       "    .dataframe tbody tr th {\n",
       "        vertical-align: top;\n",
       "    }\n",
       "\n",
       "    .dataframe thead th {\n",
       "        text-align: right;\n",
       "    }\n",
       "</style>\n",
       "<table border=\"1\" class=\"dataframe\">\n",
       "  <thead>\n",
       "    <tr style=\"text-align: right;\">\n",
       "      <th></th>\n",
       "      <th>batch</th>\n",
       "      <th>version</th>\n",
       "      <th>case</th>\n",
       "      <th>local_seq</th>\n",
       "      <th>fname</th>\n",
       "      <th>ns</th>\n",
       "    </tr>\n",
       "  </thead>\n",
       "  <tbody>\n",
       "    <tr>\n",
       "      <th>0</th>\n",
       "      <td>read-perf</td>\n",
       "      <td>basic</td>\n",
       "      <td>256_KB</td>\n",
       "      <td>0</td>\n",
       "      <td>getattr</td>\n",
       "      <td>2044215</td>\n",
       "    </tr>\n",
       "    <tr>\n",
       "      <th>1</th>\n",
       "      <td>read-perf</td>\n",
       "      <td>basic</td>\n",
       "      <td>256_KB</td>\n",
       "      <td>1</td>\n",
       "      <td>getattr</td>\n",
       "      <td>1638412</td>\n",
       "    </tr>\n",
       "    <tr>\n",
       "      <th>2</th>\n",
       "      <td>read-perf</td>\n",
       "      <td>basic</td>\n",
       "      <td>256_KB</td>\n",
       "      <td>2</td>\n",
       "      <td>getattr</td>\n",
       "      <td>1457311</td>\n",
       "    </tr>\n",
       "    <tr>\n",
       "      <th>3</th>\n",
       "      <td>read-perf</td>\n",
       "      <td>basic</td>\n",
       "      <td>256_KB</td>\n",
       "      <td>3</td>\n",
       "      <td>getattr</td>\n",
       "      <td>1442209</td>\n",
       "    </tr>\n",
       "    <tr>\n",
       "      <th>4</th>\n",
       "      <td>read-perf</td>\n",
       "      <td>basic</td>\n",
       "      <td>256_KB</td>\n",
       "      <td>4</td>\n",
       "      <td>getattr</td>\n",
       "      <td>1818411</td>\n",
       "    </tr>\n",
       "    <tr>\n",
       "      <th>...</th>\n",
       "      <td>...</td>\n",
       "      <td>...</td>\n",
       "      <td>...</td>\n",
       "      <td>...</td>\n",
       "      <td>...</td>\n",
       "      <td>...</td>\n",
       "    </tr>\n",
       "    <tr>\n",
       "      <th>56647</th>\n",
       "      <td>write-perf</td>\n",
       "      <td>perf</td>\n",
       "      <td>64_B</td>\n",
       "      <td>898</td>\n",
       "      <td>getattr</td>\n",
       "      <td>1649719</td>\n",
       "    </tr>\n",
       "    <tr>\n",
       "      <th>56648</th>\n",
       "      <td>write-perf</td>\n",
       "      <td>perf</td>\n",
       "      <td>64_B</td>\n",
       "      <td>899</td>\n",
       "      <td>read</td>\n",
       "      <td>2900</td>\n",
       "    </tr>\n",
       "    <tr>\n",
       "      <th>56649</th>\n",
       "      <td>write-perf</td>\n",
       "      <td>perf</td>\n",
       "      <td>64_B</td>\n",
       "      <td>900</td>\n",
       "      <td>write</td>\n",
       "      <td>7147882</td>\n",
       "    </tr>\n",
       "    <tr>\n",
       "      <th>56650</th>\n",
       "      <td>write-perf</td>\n",
       "      <td>perf</td>\n",
       "      <td>64_B</td>\n",
       "      <td>901</td>\n",
       "      <td>release</td>\n",
       "      <td>5000</td>\n",
       "    </tr>\n",
       "    <tr>\n",
       "      <th>56651</th>\n",
       "      <td>write-perf</td>\n",
       "      <td>perf</td>\n",
       "      <td>64_B</td>\n",
       "      <td>902</td>\n",
       "      <td>release</td>\n",
       "      <td>3013135</td>\n",
       "    </tr>\n",
       "  </tbody>\n",
       "</table>\n",
       "<p>56652 rows × 6 columns</p>\n",
       "</div>"
      ],
      "text/plain": [
       "            batch version    case  local_seq    fname       ns\n",
       "0       read-perf   basic  256_KB          0  getattr  2044215\n",
       "1       read-perf   basic  256_KB          1  getattr  1638412\n",
       "2       read-perf   basic  256_KB          2  getattr  1457311\n",
       "3       read-perf   basic  256_KB          3  getattr  1442209\n",
       "4       read-perf   basic  256_KB          4  getattr  1818411\n",
       "...           ...     ...     ...        ...      ...      ...\n",
       "56647  write-perf    perf    64_B        898  getattr  1649719\n",
       "56648  write-perf    perf    64_B        899     read     2900\n",
       "56649  write-perf    perf    64_B        900    write  7147882\n",
       "56650  write-perf    perf    64_B        901  release     5000\n",
       "56651  write-perf    perf    64_B        902  release  3013135\n",
       "\n",
       "[56652 rows x 6 columns]"
      ]
     },
     "execution_count": 14,
     "metadata": {},
     "output_type": "execute_result"
    }
   ],
   "source": [
    "df"
   ]
  },
  {
   "cell_type": "code",
   "execution_count": 15,
   "id": "b26c7b75",
   "metadata": {},
   "outputs": [],
   "source": [
    "faceted = df.drop('local_seq',axis=1).groupby(['batch','version','case','fname'])"
   ]
  },
  {
   "cell_type": "code",
   "execution_count": 16,
   "id": "caaf15ee",
   "metadata": {},
   "outputs": [],
   "source": [
    "faceted.mean().to_csv('mean.csv')\n",
    "faceted.min().to_csv('min.csv')\n",
    "faceted.max().to_csv('max.csv')\n",
    "faceted.median().to_csv('median.csv')\n",
    "faceted.std().replace(np.nan,0).to_csv('sd.csv') # some tests don't have a mknod"
   ]
  },
  {
   "cell_type": "code",
   "execution_count": 264,
   "id": "88d45147",
   "metadata": {},
   "outputs": [],
   "source": [
    "def add_case_num(df):\n",
    "    vals = ['64_B', '4_KB', '256_KB', '16_MB', '1_GB']\n",
    "    return df.assign(case_num= df['case'].apply(vals.index))\n",
    "    \n",
    "def select_relevant(df,batch,fname):\n",
    "    return df[np.logical_and(df['batch']==batch, df['fname']==fname)].drop(['batch','fname'],axis=1)\n",
    "\n",
    "    return df[df[colname]==value]\n",
    "\n",
    "def extract_first_calls(dataset, fname):\n",
    "    def theta(group):\n",
    "        i = group.local_seq.argmin()\n",
    "        return group.index.get_level_values(0)[i]\n",
    "    \n",
    "    target = dataset[dataset['fname']==fname]\n",
    "    grouped = target.groupby(['batch','version','case'])\n",
    "    idx = grouped.apply(theta).to_numpy()\n",
    "    \n",
    "    return df.iloc[idx,:]\n",
    "    \n",
    "def extract_second_calls(dataset, fname):\n",
    "    def theta(group):\n",
    "        i = group.local_seq.argmin()\n",
    "        return group.index.get_level_values(0)[i+1]\n",
    "    \n",
    "    target = dataset[dataset['fname']==fname]\n",
    "    grouped = target.groupby(['batch','version','case'])\n",
    "    idx = grouped.apply(theta).to_numpy()\n",
    "    \n",
    "    return df.iloc[idx,:]\n",
    "\n",
    "def add_log_ns(df):\n",
    "    return df.assign(log_ns=np.log(df.ns.to_numpy())).assign(ms = df.ns.to_numpy()*1e-6)\n",
    "    \n",
    "def extract_every_other_call(dataset,fname,offset=1):\n",
    "    def theta(group):\n",
    "        bys =  group.sort_values('local_seq')\n",
    "        n = len(bys)\n",
    "        ii = np.arange(offset,n,2)\n",
    "        return list(group.index.get_level_values(0)[ii])\n",
    "    \n",
    "    target = dataset[dataset['fname']==fname]\n",
    "    grouped = target.groupby(['batch','version','case'])\n",
    "    indices = grouped.apply(theta)\n",
    "    idx = np.concatenate(indices)\n",
    "    return df.iloc[idx,:]"
   ]
  },
  {
   "cell_type": "code",
   "execution_count": 18,
   "id": "5b887787",
   "metadata": {},
   "outputs": [],
   "source": [
    "means = add_case_num(pd.read_csv('mean.csv'))\n",
    "medians = add_case_num(pd.read_csv('median.csv'))\n",
    "mins = add_case_num(pd.read_csv('min.csv'))"
   ]
  },
  {
   "cell_type": "code",
   "execution_count": 19,
   "id": "35e4b680",
   "metadata": {},
   "outputs": [],
   "source": [
    "sns.set_theme()"
   ]
  },
  {
   "cell_type": "code",
   "execution_count": 101,
   "id": "fac83d8d",
   "metadata": {},
   "outputs": [],
   "source": [
    "firstopen = add_case_num(extract_first_calls(df,'open'))"
   ]
  },
  {
   "cell_type": "code",
   "execution_count": 186,
   "id": "f5150b13",
   "metadata": {},
   "outputs": [
    {
     "data": {
      "text/plain": [
       "(13.0, 23.0)"
      ]
     },
     "execution_count": 186,
     "metadata": {},
     "output_type": "execute_result"
    },
    {
     "data": {
      "image/png": "[encoded data removed]",
      "text/plain": [
       "<Figure size 864x432 with 1 Axes>"
      ]
     },
     "metadata": {},
     "output_type": "display_data"
    }
   ],
   "source": [
    "plt.figure(figsize=(12,6))\n",
    "fig = sns.lineplot(data=add_log_ns(select_col_eq(firstopen,'batch','read-perf')).sort_values(['version','case_num']),x='case',y='log_ns',hue='version',linewidth=4)\n",
    "fig.set_ylim(13,23)"
   ]
  },
  {
   "cell_type": "code",
   "execution_count": 329,
   "id": "65af5135",
   "metadata": {},
   "outputs": [
    {
     "data": {
      "image/png": "[encoded data removed]",
      "text/plain": [
       "<Figure size 576x288 with 1 Axes>"
      ]
     },
     "metadata": {},
     "output_type": "display_data"
    }
   ],
   "source": [
    "plt.figure(figsize=(8,4))\n",
    "fig = sns.lineplot(data=add_log_ns(select_col_eq(firstopen,'batch','read-perf')).sort_values(['version','case_num']),x='case',y='ms',hue='version',linewidth=4)\n",
    "plt.yscale('log')\n",
    "fig.yaxis.set_major_formatter(mpl.ticker.LogFormatter())\n",
    "fig.set_ylabel('Duration (milliseconds)')\n",
    "fig.set_xlabel('File size')\n",
    "fig.set_ylim(5,20000)\n",
    "plt.show()\n",
    "fig.figure.savefig(\"fig2.png\",bbox_inches='tight')"
   ]
  },
  {
   "cell_type": "code",
   "execution_count": 330,
   "id": "ac618c41",
   "metadata": {},
   "outputs": [
    {
     "data": {
      "image/png": "[encoded data removed]",
      "text/plain": [
       "<Figure size 576x288 with 1 Axes>"
      ]
     },
     "metadata": {},
     "output_type": "display_data"
    }
   ],
   "source": [
    "plt.figure(figsize=(8,4))\n",
    "fig = sns.lineplot(data=add_log_ns(select_col_eq(select_col_eq(medians,'fname','open'),'batch','read-perf')).sort_values(['version','case_num']),x='case',y='ms',hue='version',linewidth=4)\n",
    "fig.set_ylabel('Duration (milliseconds)')\n",
    "fig.set_xlabel('File size')\n",
    "fig.set_ylim(0,10)\n",
    "plt.show()\n",
    "fig.figure.savefig(\"fig3.png\",bbox_inches='tight')"
   ]
  },
  {
   "cell_type": "code",
   "execution_count": 334,
   "id": "53374052",
   "metadata": {},
   "outputs": [],
   "source": [
    "locky = select_col_eq(df,'batch','read-perf')\n",
    "locky = extract_every_other_call(locky, 'open')"
   ]
  },
  {
   "cell_type": "code",
   "execution_count": 339,
   "id": "554fd0f3",
   "metadata": {},
   "outputs": [
    {
     "data": {
      "image/png": "[encoded data removed]",
      "text/plain": [
       "<Figure size 576x288 with 1 Axes>"
      ]
     },
     "metadata": {},
     "output_type": "display_data"
    }
   ],
   "source": [
    "plt.figure(figsize=(8,4))\n",
    "fig = sns.boxplot(data=add_log_ns(add_case_num(locky).sort_values(['version','case_num'])),x='case',y='ms',hue='version')\n",
    "fig.set_ylabel('Duration (milliseconds)')\n",
    "fig.set_xlabel('File size')\n",
    "fig.set_ylim(0.5,3.5)\n",
    "plt.show()\n",
    "fig.figure.savefig(\"fig4.png\",bbox_inches='tight')"
   ]
  },
  {
   "cell_type": "code",
   "execution_count": null,
   "id": "17f0fb70",
   "metadata": {},
   "outputs": [],
   "source": [
    "lucky = select_col_eq(df,'batch','write-perf')\n",
    "lucky = extract_every_other_call(lucky,'release')"
   ]
  },
  {
   "cell_type": "code",
   "execution_count": 332,
   "id": "64ea0bf4",
   "metadata": {},
   "outputs": [
    {
     "data": {
      "image/png": "[encoded data removed]",
      "text/plain": [
       "<Figure size 576x288 with 1 Axes>"
      ]
     },
     "metadata": {},
     "output_type": "display_data"
    }
   ],
   "source": [
    "plt.figure(figsize=(8,4))\n",
    "fig = sns.boxplot(data=add_log_ns(add_case_num(lucky).sort_values(['version','case_num'])),x='case',y='ms',hue='version')\n",
    "plt.yscale('log')\n",
    "fig.yaxis.set_major_formatter(mpl.ticker.LogFormatter())\n",
    "fig.set_ylabel('Duration (milliseconds)')\n",
    "fig.set_xlabel('File size')\n",
    "\n",
    "plt.show()\n",
    "fig.figure.savefig(\"fig5.png\",bbox_inches='tight')"
   ]
  }
 ],
 "metadata": {
  "kernelspec": {
   "display_name": "Python 3 (ipykernel)",
   "language": "python",
   "name": "python3"
  },
  "language_info": {
   "codemirror_mode": {
    "name": "ipython",
    "version": 3
   },
   "file_extension": ".py",
   "mimetype": "text/x-python",
   "name": "python",
   "nbconvert_exporter": "python",
   "pygments_lexer": "ipython3",
   "version": "3.8.10"
  }
 },
 "nbformat": 4,
 "nbformat_minor": 5
}
