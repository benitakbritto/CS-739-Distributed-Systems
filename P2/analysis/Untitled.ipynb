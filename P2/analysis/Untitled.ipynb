{
 "cells": [
  {
   "cell_type": "code",
   "execution_count": 1,
   "id": "a297118a",
   "metadata": {},
   "outputs": [],
   "source": [
    "import pandas as pd\n",
    "import json\n",
    "import os.path\n",
    "import matplotlib.pyplot as plt\n",
    "import collections\n",
    "import matplotlib as m\n",
    "import copy\n",
    "import seaborn as sns\n",
    "import re\n",
    "import numpy as np\n",
    "import os\n",
    "from datetime import datetime"
   ]
  },
  {
   "cell_type": "code",
   "execution_count": 58,
   "id": "51c0d3a1",
   "metadata": {},
   "outputs": [],
   "source": [
    "def maybe_parse_time(str):\n",
    "    try:\n",
    "        return datetime.strptime(str, '%H:%M:%S.%f')\n",
    "    except ValueError:\n",
    "        return False"
   ]
  },
  {
   "cell_type": "code",
   "execution_count": 106,
   "id": "24ff8f16",
   "metadata": {},
   "outputs": [
    {
     "data": {
      "text/plain": [
       "datetime.datetime(1900, 1, 1, 16, 12, 12, 228744)"
      ]
     },
     "execution_count": 106,
     "metadata": {},
     "output_type": "execute_result"
    }
   ],
   "source": [
    "maybe_parse_time('16:12:12.228744')"
   ]
  },
  {
   "cell_type": "code",
   "execution_count": 107,
   "id": "560afafd",
   "metadata": {},
   "outputs": [],
   "source": [
    "def parse_call_time(line):\n",
    "    matches = re.findall('([^ ]+) time: ([0-9]+)nanoseconds\\s*',line)\n",
    "    if not matches:\n",
    "        return False\n",
    "    elif len(matches) != 1 or len(matches[0]) != 2:\n",
    "        raise Exception('Uh oh! ' + line, matches)\n",
    "    \n",
    "    (fname, ns) = matches[0]\n",
    "    \n",
    "    return (fname,int(ns))"
   ]
  },
  {
   "cell_type": "code",
   "execution_count": 93,
   "id": "fea994ef",
   "metadata": {},
   "outputs": [],
   "source": [
    "def combine(raw_dir, csv_out):\n",
    "    \n",
    "    csvs = open(csv_out,'w')\n",
    "    csvs.write('batch,version,case,local_seq,fname,ns\\n')\n",
    "    \n",
    "    issues = open('issues.txt','w')\n",
    "    any_issues = False\n",
    "    \n",
    "    for batch in os.listdir(raw_dir):\n",
    "        for version in os.listdir(os.path.join(raw_dir,batch)):\n",
    "            for case in os.listdir(os.path.join(raw_dir,batch,version)):\n",
    "                filename = os.path.join(raw_dir,batch,version,case)\n",
    "                file = open(filename,'r')\n",
    "                \n",
    "                lineno = 0\n",
    "                local_seq = 0\n",
    "                for line in file:\n",
    "                    res = parse_call_time(line)\n",
    "                    if not res:\n",
    "                        if not line.startswith('Initializing') and not line.startswith('testing consistency') and not maybe_parse_time(line.strip()):\n",
    "                            any_issues=True\n",
    "                            issuestr = f'in {filename} SKIP [{lineno}]: {line[:-1]}'\n",
    "                            print(issuestr)\n",
    "                            issues.write(issuestr+'\\n')\n",
    "                        lineno += 1\n",
    "                        continue\n",
    "                    lineno += 1\n",
    "                    (fname,ns) = res\n",
    "                    \n",
    "                    csvs.write(f'{global_seq}, {batch}, {version}, {case}, {local_seq}, {fname}, {ns}\\n')\n",
    "                    \n",
    "                    local_seq+=1\n",
    "    if any_issues:\n",
    "        print('Some parsing issues!')\n",
    "    else:\n",
    "        print('No parsing issues :)')\n",
    "        "
   ]
  },
  {
   "cell_type": "code",
   "execution_count": 94,
   "id": "9dac1786",
   "metadata": {},
   "outputs": [
    {
     "name": "stdout",
     "output_type": "stream",
     "text": [
      "No parsing issues :)\n"
     ]
    }
   ],
   "source": [
    "combine('../output','results0.csv')"
   ]
  },
  {
   "cell_type": "code",
   "execution_count": 95,
   "id": "9c469575",
   "metadata": {},
   "outputs": [],
   "source": [
    "df = pd.read_csv('results0.csv')"
   ]
  },
  {
   "cell_type": "code",
   "execution_count": 96,
   "id": "87582eb3",
   "metadata": {},
   "outputs": [
    {
     "data": {
      "text/html": [
       "<div>\n",
       "<style scoped>\n",
       "    .dataframe tbody tr th:only-of-type {\n",
       "        vertical-align: middle;\n",
       "    }\n",
       "\n",
       "    .dataframe tbody tr th {\n",
       "        vertical-align: top;\n",
       "    }\n",
       "\n",
       "    .dataframe thead th {\n",
       "        text-align: right;\n",
       "    }\n",
       "</style>\n",
       "<table border=\"1\" class=\"dataframe\">\n",
       "  <thead>\n",
       "    <tr style=\"text-align: right;\">\n",
       "      <th></th>\n",
       "      <th>batch</th>\n",
       "      <th>version</th>\n",
       "      <th>case</th>\n",
       "      <th>local_seq</th>\n",
       "      <th>fname</th>\n",
       "      <th>ns</th>\n",
       "    </tr>\n",
       "  </thead>\n",
       "  <tbody>\n",
       "    <tr>\n",
       "      <th>35717</th>\n",
       "      <td>read-perf</td>\n",
       "      <td>basic</td>\n",
       "      <td>256_KB</td>\n",
       "      <td>0</td>\n",
       "      <td>getattr</td>\n",
       "      <td>1932816</td>\n",
       "    </tr>\n",
       "    <tr>\n",
       "      <th>35717</th>\n",
       "      <td>read-perf</td>\n",
       "      <td>basic</td>\n",
       "      <td>256_KB</td>\n",
       "      <td>1</td>\n",
       "      <td>getattr</td>\n",
       "      <td>2536427</td>\n",
       "    </tr>\n",
       "    <tr>\n",
       "      <th>35717</th>\n",
       "      <td>read-perf</td>\n",
       "      <td>basic</td>\n",
       "      <td>256_KB</td>\n",
       "      <td>2</td>\n",
       "      <td>getattr</td>\n",
       "      <td>1578917</td>\n",
       "    </tr>\n",
       "    <tr>\n",
       "      <th>35717</th>\n",
       "      <td>read-perf</td>\n",
       "      <td>basic</td>\n",
       "      <td>256_KB</td>\n",
       "      <td>3</td>\n",
       "      <td>getattr</td>\n",
       "      <td>1353814</td>\n",
       "    </tr>\n",
       "    <tr>\n",
       "      <th>35717</th>\n",
       "      <td>read-perf</td>\n",
       "      <td>basic</td>\n",
       "      <td>256_KB</td>\n",
       "      <td>4</td>\n",
       "      <td>open</td>\n",
       "      <td>18828004</td>\n",
       "    </tr>\n",
       "    <tr>\n",
       "      <th>...</th>\n",
       "      <td>...</td>\n",
       "      <td>...</td>\n",
       "      <td>...</td>\n",
       "      <td>...</td>\n",
       "      <td>...</td>\n",
       "      <td>...</td>\n",
       "    </tr>\n",
       "    <tr>\n",
       "      <th>35717</th>\n",
       "      <td>write-perf</td>\n",
       "      <td>perf</td>\n",
       "      <td>64_B</td>\n",
       "      <td>898</td>\n",
       "      <td>getattr</td>\n",
       "      <td>1426214</td>\n",
       "    </tr>\n",
       "    <tr>\n",
       "      <th>35717</th>\n",
       "      <td>write-perf</td>\n",
       "      <td>perf</td>\n",
       "      <td>64_B</td>\n",
       "      <td>899</td>\n",
       "      <td>read</td>\n",
       "      <td>4900</td>\n",
       "    </tr>\n",
       "    <tr>\n",
       "      <th>35717</th>\n",
       "      <td>write-perf</td>\n",
       "      <td>perf</td>\n",
       "      <td>64_B</td>\n",
       "      <td>900</td>\n",
       "      <td>write</td>\n",
       "      <td>5434755</td>\n",
       "    </tr>\n",
       "    <tr>\n",
       "      <th>35717</th>\n",
       "      <td>write-perf</td>\n",
       "      <td>perf</td>\n",
       "      <td>64_B</td>\n",
       "      <td>901</td>\n",
       "      <td>release</td>\n",
       "      <td>2913229</td>\n",
       "    </tr>\n",
       "    <tr>\n",
       "      <th>35717</th>\n",
       "      <td>write-perf</td>\n",
       "      <td>perf</td>\n",
       "      <td>64_B</td>\n",
       "      <td>902</td>\n",
       "      <td>release</td>\n",
       "      <td>3462334</td>\n",
       "    </tr>\n",
       "  </tbody>\n",
       "</table>\n",
       "<p>35747 rows × 6 columns</p>\n",
       "</div>"
      ],
      "text/plain": [
       "             batch version     case  local_seq     fname        ns\n",
       "35717    read-perf   basic   256_KB          0   getattr   1932816\n",
       "35717    read-perf   basic   256_KB          1   getattr   2536427\n",
       "35717    read-perf   basic   256_KB          2   getattr   1578917\n",
       "35717    read-perf   basic   256_KB          3   getattr   1353814\n",
       "35717    read-perf   basic   256_KB          4      open  18828004\n",
       "...            ...     ...      ...        ...       ...       ...\n",
       "35717   write-perf    perf     64_B        898   getattr   1426214\n",
       "35717   write-perf    perf     64_B        899      read      4900\n",
       "35717   write-perf    perf     64_B        900     write   5434755\n",
       "35717   write-perf    perf     64_B        901   release   2913229\n",
       "35717   write-perf    perf     64_B        902   release   3462334\n",
       "\n",
       "[35747 rows x 6 columns]"
      ]
     },
     "execution_count": 96,
     "metadata": {},
     "output_type": "execute_result"
    }
   ],
   "source": [
    "df"
   ]
  },
  {
   "cell_type": "code",
   "execution_count": 103,
   "id": "b26c7b75",
   "metadata": {},
   "outputs": [],
   "source": [
    "faceted = df.drop('local_seq',axis=1).groupby(['batch','version','case','fname'])"
   ]
  },
  {
   "cell_type": "code",
   "execution_count": 105,
   "id": "caaf15ee",
   "metadata": {},
   "outputs": [],
   "source": [
    "faceted.mean().to_csv('mean.csv')\n",
    "faceted.min().to_csv('min.csv')\n",
    "faceted.max().to_csv('max.csv')\n",
    "faceted.median().to_csv('median.csv')\n",
    "faceted.std().to_csv('sd.csv')"
   ]
  }
 ],
 "metadata": {
  "kernelspec": {
   "display_name": "Python 3 (ipykernel)",
   "language": "python",
   "name": "python3"
  },
  "language_info": {
   "codemirror_mode": {
    "name": "ipython",
    "version": 3
   },
   "file_extension": ".py",
   "mimetype": "text/x-python",
   "name": "python",
   "nbconvert_exporter": "python",
   "pygments_lexer": "ipython3",
   "version": "3.8.10"
  }
 },
 "nbformat": 4,
 "nbformat_minor": 5
}
